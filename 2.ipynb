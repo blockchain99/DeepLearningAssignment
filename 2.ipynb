{
 "cells": [
  {
   "cell_type": "markdown",
   "metadata": {},
   "source": [
    "#### Deep Learning Assignment 2 (conda env:tensorflow) fullyconnected\n",
    "\n",
    "Previously in 1_notmnist.ipynb, we created a pickle with formatted datasets for training, development and testing on the notMNIST dataset.\n",
    "\n",
    "The goal of this assignment is to progressively train deeper and more accurate models using TensorFlow.\n"
   ]
  },
  {
   "cell_type": "code",
   "execution_count": 2,
   "metadata": {
    "collapsed": true
   },
   "outputs": [],
   "source": [
    "# These are all the modules we'll be using later. Make sure you can import them\n",
    "# before proceeding further.\n",
    "from __future__ import print_function\n",
    "import numpy as np\n",
    "import tensorflow as tf\n",
    "from six.moves import cPickle as pickle\n",
    "from six.moves import range"
   ]
  },
  {
   "cell_type": "markdown",
   "metadata": {},
   "source": [
    "First reload the data we generated in 1_notmnist.ipynb."
   ]
  },
  {
   "cell_type": "code",
   "execution_count": 3,
   "metadata": {
    "collapsed": true
   },
   "outputs": [],
   "source": [
    "### from  1_notmnist.ipynb\n",
    "# pickle_file = 'notMNIST.pickle'\n",
    "\n",
    "# try:\n",
    "#   f = open(pickle_file, 'wb')\n",
    "#   save = {\n",
    "#     'train_dataset': train_dataset,\n",
    "#     'train_labels': train_labels,\n",
    "#     'valid_dataset': valid_dataset,\n",
    "#     'valid_labels': valid_labels,\n",
    "#     'test_dataset': test_dataset,\n",
    "#     'test_labels': test_labels,\n",
    "#     }\n",
    "#   pickle.dump(save, f, pickle.HIGHEST_PROTOCOL)\n",
    "#   f.close()"
   ]
  },
  {
   "cell_type": "code",
   "execution_count": 4,
   "metadata": {
    "collapsed": false
   },
   "outputs": [
    {
     "name": "stdout",
     "output_type": "stream",
     "text": [
      "Training set (200000, 28, 28) (200000,)\n",
      "Validation set (10000, 28, 28) (10000,)\n",
      "Test set (10000, 28, 28) (10000,)\n"
     ]
    }
   ],
   "source": [
    "pickle_file = 'notMNIST.pickle'\n",
    "\n",
    "with open(pickle_file, 'rb') as f:\n",
    "  save = pickle.load(f)\n",
    "  train_dataset = save['train_dataset']\n",
    "  train_labels = save['train_labels']\n",
    "  valid_dataset = save['valid_dataset']\n",
    "  valid_labels = save['valid_labels']\n",
    "  test_dataset = save['test_dataset']\n",
    "  test_labels = save['test_labels']\n",
    "  del save  # hint to help gc free up memory\n",
    "  print('Training set', train_dataset.shape, train_labels.shape)\n",
    "  print('Validation set', valid_dataset.shape, valid_labels.shape)\n",
    "  print('Test set', test_dataset.shape, test_labels.shape)"
   ]
  },
  {
   "cell_type": "markdown",
   "metadata": {},
   "source": [
    "#### Reformat into a shape that's more adapted to the models we're going to train:\n",
    "\n",
    "    data as a flat matrix,\n",
    "    labels as float 1-hot encodings.\n",
    "\n"
   ]
  },
  {
   "cell_type": "code",
   "execution_count": 5,
   "metadata": {
    "collapsed": false
   },
   "outputs": [
    {
     "name": "stdout",
     "output_type": "stream",
     "text": [
      "784\n",
      "[[ 0  1  2  3  4  5]\n",
      " [ 6  7  8  9 10 11]]\n",
      "**a2 :  [ 0  1  2  3  4  5  6  7  8  9 10 11 12 13 14 15 16 17 18 19 20 21 22 23]\n",
      "**a3 :\n",
      "  [[[ 0  1  2  3]\n",
      "  [ 4  5  6  7]]\n",
      "\n",
      " [[ 8  9 10 11]\n",
      "  [12 13 14 15]]\n",
      "\n",
      " [[16 17 18 19]\n",
      "  [20 21 22 23]]]\n",
      "**************************************************\n",
      "*** a4 : \n",
      " [[[ 0  1]\n",
      "  [ 2  3]]\n",
      "\n",
      " [[ 4  5]\n",
      "  [ 6  7]]\n",
      "\n",
      " [[ 8  9]\n",
      "  [10 11]]\n",
      "\n",
      " [[12 13]\n",
      "  [14 15]]\n",
      "\n",
      " [[16 17]\n",
      "  [18 19]]\n",
      "\n",
      " [[20 21]\n",
      "  [22 23]]]\n",
      "****a4.reshape(-1, i_size * i_size) : reshape(-1,4) \n",
      " [[ 0  1  2  3]\n",
      " [ 4  5  6  7]\n",
      " [ 8  9 10 11]\n",
      " [12 13 14 15]\n",
      " [16 17 18 19]\n",
      " [20 21 22 23]]\n",
      "----------------------------------------------------------------------\n",
      "*** a6 = reshape np.arange(3 * 24).reshape(3, 6, 4):\n",
      " [[[ 0  1  2  3]\n",
      "  [ 4  5  6  7]\n",
      "  [ 8  9 10 11]\n",
      "  [12 13 14 15]\n",
      "  [16 17 18 19]\n",
      "  [20 21 22 23]]\n",
      "\n",
      " [[24 25 26 27]\n",
      "  [28 29 30 31]\n",
      "  [32 33 34 35]\n",
      "  [36 37 38 39]\n",
      "  [40 41 42 43]\n",
      "  [44 45 46 47]]\n",
      "\n",
      " [[48 49 50 51]\n",
      "  [52 53 54 55]\n",
      "  [56 57 58 59]\n",
      "  [60 61 62 63]\n",
      "  [64 65 66 67]\n",
      "  [68 69 70 71]]]\n",
      "***  a6.reshape(3 , 24):\n",
      " [[ 0  1  2  3  4  5  6  7  8  9 10 11 12 13 14 15 16 17 18 19 20 21 22 23]\n",
      " [24 25 26 27 28 29 30 31 32 33 34 35 36 37 38 39 40 41 42 43 44 45 46 47]\n",
      " [48 49 50 51 52 53 54 55 56 57 58 59 60 61 62 63 64 65 66 67 68 69 70 71]]\n",
      "***  a6.reshape(3 , -1):\n",
      " [[ 0  1  2  3  4  5  6  7  8  9 10 11 12 13 14 15 16 17 18 19 20 21 22 23]\n",
      " [24 25 26 27 28 29 30 31 32 33 34 35 36 37 38 39 40 41 42 43 44 45 46 47]\n",
      " [48 49 50 51 52 53 54 55 56 57 58 59 60 61 62 63 64 65 66 67 68 69 70 71]]\n",
      "***  a6.reshape(-1 , 24):\n",
      " [[ 0  1  2  3  4  5  6  7  8  9 10 11 12 13 14 15 16 17 18 19 20 21 22 23]\n",
      " [24 25 26 27 28 29 30 31 32 33 34 35 36 37 38 39 40 41 42 43 44 45 46 47]\n",
      " [48 49 50 51 52 53 54 55 56 57 58 59 60 61 62 63 64 65 66 67 68 69 70 71]]\n"
     ]
    }
   ],
   "source": [
    "#test\n",
    "print (28*28)\n",
    "a1= np.arange(0,12).reshape(2,6)\n",
    "a2=np.arange(0,24)\n",
    "a3 = a2.reshape(3, 2 ,4)\n",
    "print (a1)\n",
    "print (\"**a2 : \",a2)\n",
    "print (\"**a3 :\\n \",a3)\n",
    "print(\"*\"*50)\n",
    "i_size = 2\n",
    "a4=a2.reshape(6,i_size,i_size)\n",
    "print (\"*** a4 : \\n\",a4)\n",
    "a5=a4.reshape(-1, i_size * i_size)\n",
    "print(\"****a4.reshape(-1, i_size * i_size) : reshape(-1,4) \\n\",a5)\n",
    "print (\"-\"*70)\n",
    "a6 = np.arange(3 * 24).reshape(3, 6, 4)\n",
    "print (\"*** a6 = reshape np.arange(3 * 24).reshape(3, 6, 4):\\n\",a6)\n",
    "print (\"***  a6.reshape(3 , 24):\\n\",a6.reshape(3 , 24))\n",
    "print (\"***  a6.reshape(3 , -1):\\n\",a6.reshape(3 , -1))  # -i column :rest number of 24row which makes same 24by3 array\n",
    "print (\"***  a6.reshape(-1 , 24):\\n\",a6.reshape(-1 , 24))"
   ]
  },
  {
   "cell_type": "code",
   "execution_count": 6,
   "metadata": {
    "collapsed": false
   },
   "outputs": [
    {
     "name": "stdout",
     "output_type": "stream",
     "text": [
      "(200000, 28, 28)\n",
      "<type 'numpy.ndarray'>\n",
      "(200000, 784)\n",
      "[[-0.46470588 -0.29215688 -0.11176471 ..., -0.5        -0.5        -0.5       ]\n",
      " [ 0.5         0.5         0.5        ..., -0.5        -0.49215686\n",
      "  -0.49607843]\n",
      " [-0.5        -0.5        -0.5        ..., -0.5        -0.5        -0.5       ]\n",
      " ..., \n",
      " [ 0.41764706  0.5         0.49607843 ..., -0.49215686 -0.5        -0.5       ]\n",
      " [-0.5        -0.5        -0.5        ..., -0.5        -0.5        -0.5       ]\n",
      " [ 0.5         0.5         0.5        ...,  0.49215686  0.07647059\n",
      "  -0.28039217]]\n"
     ]
    }
   ],
   "source": [
    "#test\n",
    "image_size = 28\n",
    "print (train_dataset.shape) #3d array\n",
    "print (type(train_dataset))\n",
    "dataset = train_dataset.reshape(-1, image_size * image_size)  # -1 represnests x: x*(28*28) = 200000*28*28\n",
    "print (dataset.shape)       \n",
    "print (dataset)"
   ]
  },
  {
   "cell_type": "code",
   "execution_count": 45,
   "metadata": {
    "collapsed": false
   },
   "outputs": [
    {
     "name": "stdout",
     "output_type": "stream",
     "text": [
      "** np.arange(num_labels):\n",
      " [0 1 2 3 4 5 6 7 8 9]\n",
      "** train_labels.shape:  (200000, 10)\n",
      "train_labels :\n",
      " [[ 0.  0.  0. ...,  0.  0.  0.]\n",
      " [ 0.  0.  0. ...,  0.  0.  0.]\n",
      " [ 0.  0.  0. ...,  0.  0.  0.]\n",
      " ..., \n",
      " [ 0.  1.  0. ...,  0.  0.  0.]\n",
      " [ 0.  0.  0. ...,  0.  1.  0.]\n",
      " [ 0.  0.  0. ...,  0.  0.  0.]]\n",
      "** train_labels[:,None].shape: (200000, 1, 10)\n",
      "train_labels[:,None]: \n",
      " [[[ 0.  0.  0. ...,  0.  0.  0.]]\n",
      "\n",
      " [[ 0.  0.  0. ...,  0.  0.  0.]]\n",
      "\n",
      " [[ 0.  0.  0. ...,  0.  0.  0.]]\n",
      "\n",
      " ..., \n",
      " [[ 0.  1.  0. ...,  0.  0.  0.]]\n",
      "\n",
      " [[ 0.  0.  0. ...,  0.  1.  0.]]\n",
      "\n",
      " [[ 0.  0.  0. ...,  0.  0.  0.]]]\n",
      "***** test_a: \n",
      " [[ 0  1  2  3  4  5]\n",
      " [ 6  7  8  9 10 11]\n",
      " [12 13 14 15 16 17]\n",
      " [18 19 20 21 22 23]]\n",
      "(4, 6)\n",
      "***** test_a[:,None] :\n",
      " [[[ 0  1  2  3  4  5]]\n",
      "\n",
      " [[ 6  7  8  9 10 11]]\n",
      "\n",
      " [[12 13 14 15 16 17]]\n",
      "\n",
      " [[18 19 20 21 22 23]]]\n",
      "(4, 1, 6)\n",
      "******************************************************************************************\n",
      "1-hot encoding:\n",
      " [[[ 1.  0.  0. ...,  0.  0.  0.]]\n",
      "\n",
      " [[ 1.  0.  0. ...,  0.  0.  0.]]\n",
      "\n",
      " [[ 1.  0.  0. ...,  0.  0.  0.]]\n",
      "\n",
      " ..., \n",
      " [[ 1.  1.  0. ...,  0.  0.  0.]]\n",
      "\n",
      " [[ 1.  0.  0. ...,  0.  0.  0.]]\n",
      "\n",
      " [[ 1.  0.  0. ...,  0.  0.  0.]]]\n",
      "(200000, 1, 10)\n"
     ]
    }
   ],
   "source": [
    "#test\n",
    "num_labels = 10\n",
    "print (\"** np.arange(num_labels):\\n\",np.arange(num_labels))\n",
    "print (\"** train_labels.shape: \",train_labels.shape)  #2d\n",
    "print (\"train_labels :\\n\",train_labels)\n",
    "print (\"** train_labels[:,None].shape:\",train_labels[:,None].shape)  #convert to 3d array(200000, 1, 10) from 2d \n",
    "print (\"train_labels[:,None]: \\n\",train_labels[:,None])\n",
    "test_a = np.arange(24).reshape(4,6)\n",
    "print (\"***** test_a: \\n\",test_a)\n",
    "print(test_a.shape)\n",
    "print (\"***** test_a[:,None] :\\n\",test_a[:,None])  #4 row of (1by6 array) array : convert to 3d array from 2d array\n",
    "print (test_a[:,None].shape)\n",
    "\n",
    "print (\"*\"*90)\n",
    "labels2 = (np.arange(num_labels) == train_labels[:,None]).astype(np.float32)\n",
    "print (\"1-hot encoding:\\n\",labels2) #3d (200000, 1, 10) with 1-hot encoding\n",
    "print (labels2.shape)"
   ]
  },
  {
   "cell_type": "code",
   "execution_count": 8,
   "metadata": {
    "collapsed": false
   },
   "outputs": [
    {
     "name": "stdout",
     "output_type": "stream",
     "text": [
      "Training set (200000, 784) (200000, 10)\n",
      "Validation set (10000, 784) (10000, 10)\n",
      "Test set (10000, 784) (10000, 10)\n"
     ]
    }
   ],
   "source": [
    "image_size = 28\n",
    "num_labels = 10\n",
    "\n",
    "def reformat(dataset, labels):\n",
    "  dataset = dataset.reshape((-1, image_size * image_size)).astype(np.float32)  #convert to 2d datasetn fm 3d\n",
    "  # Map 0 to [1.0, 0.0, 0.0 ...], 1 to [0.0, 1.0, 0.0 ...]\n",
    "  labels = (np.arange(num_labels) == labels[:,None]).astype(np.float32)  #1-hoot encoding\n",
    "  return dataset, labels\n",
    "train_dataset, train_labels = reformat(train_dataset, train_labels)\n",
    "valid_dataset, valid_labels = reformat(valid_dataset, valid_labels)\n",
    "test_dataset, test_labels = reformat(test_dataset, test_labels)\n",
    "print('Training set', train_dataset.shape, train_labels.shape)\n",
    "print('Validation set', valid_dataset.shape, valid_labels.shape)\n",
    "print('Test set', test_dataset.shape, test_labels.shape)"
   ]
  },
  {
   "cell_type": "markdown",
   "metadata": {},
   "source": [
    "#### We're first going to train a multinomial logistic regression using simple gradient descent.\n",
    "\n",
    "TensorFlow works like this:\n",
    "\n",
    "    First you describe the computation that you want to see performed: what the inputs, the variables, and the operations look like. These get created as nodes over a computation graph. This description is all contained within the block below:\n",
    "\n",
    "    with graph.as_default():\n",
    "        ...\n",
    "\n",
    "    Then you can run the operations on this graph as many times as you want by calling session.run(), providing it outputs to fetch from the graph that get returned. This runtime operation is all contained in the block below:\n",
    "\n",
    "    with tf.Session(graph=graph) as session:\n",
    "        ...\n",
    "\n",
    "Let's load all the data into TensorFlow and build the computation graph corresponding to our training:\n",
    " "
   ]
  },
  {
   "cell_type": "code",
   "execution_count": 9,
   "metadata": {
    "collapsed": true
   },
   "outputs": [],
   "source": [
    "# With gradient descent training, even this much data is prohibitive.\n",
    "# Subset the training data for faster turnaround.\n",
    "train_subset = 10000\n",
    "\n",
    "graph = tf.Graph()\n",
    "with graph.as_default():\n",
    "\n",
    "  # Input data.\n",
    "  # Load the training, validation and test data into constants that are\n",
    "  # attached to the graph.\n",
    "  tf_train_dataset = tf.constant(train_dataset[:train_subset, :])\n",
    "  tf_train_labels = tf.constant(train_labels[:train_subset])\n",
    "  tf_valid_dataset = tf.constant(valid_dataset)\n",
    "  tf_test_dataset = tf.constant(test_dataset)\n",
    "  \n",
    "  # Variables.\n",
    "  # These are the parameters that we are going to be training. The weight\n",
    "  # matrix will be initialized using random values following a (truncated)\n",
    "  # normal distribution. The biases get initialized to zero.\n",
    "  weights = tf.Variable(\n",
    "    tf.truncated_normal([image_size * image_size, num_labels]))\n",
    "  biases = tf.Variable(tf.zeros([num_labels]))\n",
    "  \n",
    "  # Training computation.\n",
    "  # We multiply the inputs with the weight matrix, and add biases. We compute\n",
    "  # the softmax and cross-entropy (it's one operation in TensorFlow, because\n",
    "  # it's very common, and it can be optimized). We take the average of this\n",
    "  # cross-entropy across all training examples: that's our loss.\n",
    "  logits = tf.matmul(tf_train_dataset, weights) + biases\n",
    "  loss = tf.reduce_mean(\n",
    "    tf.nn.softmax_cross_entropy_with_logits(logits, tf_train_labels))\n",
    "  \n",
    "  # Optimizer.\n",
    "  # We are going to find the minimum of this loss using gradient descent.\n",
    "  optimizer = tf.train.GradientDescentOptimizer(0.5).minimize(loss)\n",
    "  \n",
    "  # Predictions for the training, validation, and test data.\n",
    "  # These are not part of training, but merely here so that we can report\n",
    "  # accuracy figures as we train.\n",
    "  train_prediction = tf.nn.softmax(logits)\n",
    "  valid_prediction = tf.nn.softmax(\n",
    "    tf.matmul(tf_valid_dataset, weights) + biases)\n",
    "  test_prediction = tf.nn.softmax(tf.matmul(tf_test_dataset, weights) + biases)"
   ]
  },
  {
   "cell_type": "markdown",
   "metadata": {},
   "source": [
    "#### Let's run this computation and iterate:"
   ]
  },
  {
   "cell_type": "code",
   "execution_count": 29,
   "metadata": {
    "collapsed": false
   },
   "outputs": [
    {
     "name": "stdout",
     "output_type": "stream",
     "text": [
      "Initialized\n",
      "Loss at step 0: 17.664175\n",
      "Training accuracy: 7.3%\n",
      "Validation accuracy: 10.6%\n",
      "Loss at step 100: 2.338831\n",
      "Training accuracy: 71.5%\n",
      "Validation accuracy: 70.7%\n",
      "Loss at step 200: 1.872660\n",
      "Training accuracy: 75.0%\n",
      "Validation accuracy: 73.1%\n",
      "Loss at step 300: 1.622114\n",
      "Training accuracy: 76.0%\n",
      "Validation accuracy: 73.8%\n",
      "Loss at step 400: 1.454489\n",
      "Training accuracy: 76.8%\n",
      "Validation accuracy: 74.3%\n",
      "Loss at step 500: 1.330898\n",
      "Training accuracy: 77.7%\n",
      "Validation accuracy: 74.5%\n",
      "Loss at step 600: 1.234529\n",
      "Training accuracy: 78.3%\n",
      "Validation accuracy: 74.7%\n",
      "Loss at step 700: 1.156531\n",
      "Training accuracy: 78.9%\n",
      "Validation accuracy: 74.7%\n",
      "Loss at step 800: 1.091674\n",
      "Training accuracy: 79.1%\n",
      "Validation accuracy: 74.7%\n",
      "Test accuracy: 83.2%\n"
     ]
    }
   ],
   "source": [
    "num_steps = 801\n",
    "\n",
    "def accuracy(predictions, labels):\n",
    "#predictions.shape : (10000, 10), so np.argmax(predictions, 1) is the max index among 10 columns\n",
    "#np.argmax(labels,1) : (10000, 10),  the max index among 10 columns\n",
    "## for each 10000 row ,100*max index among 10 predictions column == max index among 10 labels column.\n",
    "  return (100.0 * np.sum(np.argmax(predictions, 1) == np.argmax(labels, 1))\n",
    "          / predictions.shape[0]) #10000(row):total number of predcition\n",
    "\n",
    "with tf.Session(graph=graph) as session:\n",
    "  # This is a one-time operation which ensures the parameters get initialized as\n",
    "  # we described in the graph: random weights for the matrix, zeros for the\n",
    "  # biases. \n",
    "  tf.initialize_all_variables().run()\n",
    "  print('Initialized')\n",
    "  for step in range(num_steps):\n",
    "    # Run the computations. We tell .run() that we want to run the optimizer,\n",
    "    # and get the loss value and the training predictions returned as numpy\n",
    "    # arrays.\n",
    "    _, l, predictions = session.run([optimizer, loss, train_prediction])\n",
    "    if (step % 100 == 0):   #9 occurrence(0,100,..800)\n",
    "      print('Loss at step %d: %f' % (step, l))\n",
    "      print('Training accuracy: %.1f%%' % accuracy(\n",
    "        predictions, train_labels[:train_subset, :]))\n",
    "      # Calling .eval() on valid_prediction is basically like calling run(), but\n",
    "      # just to get that one numpy array. Note that it recomputes all its graph\n",
    "      # dependencies.\n",
    "      print('Validation accuracy: %.1f%%' % accuracy(\n",
    "        valid_prediction.eval(), valid_labels))\n",
    "#test_prediction:   ,test_labels:(10000, 10)2d-array\n",
    "  print('Test accuracy: %.1f%%' % accuracy(test_prediction.eval(), test_labels))  "
   ]
  },
  {
   "cell_type": "code",
   "execution_count": 37,
   "metadata": {
    "collapsed": false
   },
   "outputs": [
    {
     "name": "stdout",
     "output_type": "stream",
     "text": [
      "(10000, 10)\n",
      "(10000, 10)\n",
      "(10000, 10)\n",
      "** predictions :\n",
      " [[  1.21644632e-07   4.27734676e-06   2.16982838e-11 ...,   2.83619208e-08\n",
      "    5.43003997e-09   1.97109884e-09]\n",
      " [  2.35422485e-05   1.23736542e-02   2.87960520e-05 ...,   8.65043967e-06\n",
      "    2.45758406e-06   7.28015766e-06]\n",
      " [  3.48756475e-06   1.15768451e-07   3.30291072e-10 ...,   9.48472746e-07\n",
      "    4.87349041e-07   2.79515300e-09]\n",
      " ..., \n",
      " [  5.55673055e-03   2.63089269e-01   2.56393407e-03 ...,   1.82805394e-07\n",
      "    1.03649870e-02   1.81789419e-05]\n",
      " [  2.81543677e-08   3.16697668e-09   2.29063705e-02 ...,   6.74104956e-12\n",
      "    4.46748231e-07   6.30877594e-07]\n",
      " [  1.68385927e-09   1.11338549e-09   3.33384742e-09 ...,   1.06131068e-08\n",
      "    1.16494618e-08   9.99999523e-01]]\n",
      "**************************************************\n",
      "** test_labels :\n",
      " [[ 0.  0.  0. ...,  0.  0.  0.]\n",
      " [ 0.  0.  0. ...,  0.  0.  0.]\n",
      " [ 0.  0.  0. ...,  0.  1.  0.]\n",
      " ..., \n",
      " [ 0.  0.  1. ...,  0.  0.  0.]\n",
      " [ 0.  1.  0. ...,  0.  0.  0.]\n",
      " [ 0.  0.  0. ...,  0.  0.  0.]]\n",
      "9.98\n"
     ]
    }
   ],
   "source": [
    "#test\n",
    "print (test_labels.shape)\n",
    "print (predictions.shape)\n",
    "print (test_labels.shape)\n",
    "\n",
    "print(\"** predictions :\\n\",predictions)\n",
    "print(\"*\"*50)\n",
    "print(\"** test_labels :\\n\",test_labels)\n",
    "#above cell is not excuted , predictions not ref, so maybe error \n",
    "print((100.0 * np.sum(np.argmax(predictions, 1) == np.argmax(test_labels, 1))\n",
    "          / predictions.shape[0]))"
   ]
  },
  {
   "cell_type": "markdown",
   "metadata": {},
   "source": [
    "#### Let's now switch to stochastic gradient descent training instead, which is much faster.\n",
    "\n",
    "The graph will be similar, except that instead of holding all the training data into a constant node, we create a <span style=\"color:red\">Placeholder node </span>which will be fed actual data at every call of session.run().\n"
   ]
  },
  {
   "cell_type": "code",
   "execution_count": 61,
   "metadata": {
    "collapsed": true
   },
   "outputs": [],
   "source": [
    "batch_size = 128\n",
    "\n",
    "graph = tf.Graph()\n",
    "with graph.as_default():\n",
    "\n",
    "  # Input data. For the training data, we use a placeholder that will be fed\n",
    "  # at run time with a training minibatch.\n",
    "  tf_train_dataset = tf.placeholder(tf.float32,\n",
    "                                    shape=(batch_size, image_size * image_size))\n",
    "  tf_train_labels = tf.placeholder(tf.float32, shape=(batch_size, num_labels))\n",
    "  tf_valid_dataset = tf.constant(valid_dataset)\n",
    "  tf_test_dataset = tf.constant(test_dataset)\n",
    "  \n",
    "  # Variables.\n",
    "  weights = tf.Variable(\n",
    "    tf.truncated_normal([image_size * image_size, num_labels]))\n",
    "  biases = tf.Variable(tf.zeros([num_labels]))\n",
    "  \n",
    "  # Training computation.\n",
    "  logits = tf.matmul(tf_train_dataset, weights) + biases\n",
    "  loss = tf.reduce_mean(\n",
    "    tf.nn.softmax_cross_entropy_with_logits(logits, tf_train_labels))\n",
    "  \n",
    "  # Optimizer.\n",
    "  optimizer = tf.train.GradientDescentOptimizer(0.5).minimize(loss)\n",
    "  \n",
    "  # Predictions for the training, validation, and test data.\n",
    "  train_prediction = tf.nn.softmax(logits)\n",
    "  valid_prediction = tf.nn.softmax(\n",
    "    tf.matmul(tf_valid_dataset, weights) + biases)\n",
    "  test_prediction = tf.nn.softmax(tf.matmul(tf_test_dataset, weights) + biases)\n"
   ]
  },
  {
   "cell_type": "markdown",
   "metadata": {},
   "source": [
    "####  Let's run it:"
   ]
  },
  {
   "cell_type": "code",
   "execution_count": 62,
   "metadata": {
    "collapsed": false
   },
   "outputs": [
    {
     "name": "stdout",
     "output_type": "stream",
     "text": [
      "Initialized\n",
      "Minibatch loss at step 0: 18.464163\n",
      "Minibatch accuracy: 11.7%\n",
      "Validation accuracy: 18.0%\n",
      "Minibatch loss at step 500: 1.672913\n",
      "Minibatch accuracy: 78.9%\n",
      "Validation accuracy: 75.6%\n",
      "Minibatch loss at step 1000: 1.881558\n",
      "Minibatch accuracy: 71.1%\n",
      "Validation accuracy: 76.6%\n",
      "Minibatch loss at step 1500: 1.121875\n",
      "Minibatch accuracy: 76.6%\n",
      "Validation accuracy: 76.7%\n",
      "Minibatch loss at step 2000: 0.743603\n",
      "Minibatch accuracy: 77.3%\n",
      "Validation accuracy: 77.6%\n",
      "Minibatch loss at step 2500: 0.808663\n",
      "Minibatch accuracy: 82.8%\n",
      "Validation accuracy: 78.0%\n",
      "Minibatch loss at step 3000: 1.262544\n",
      "Minibatch accuracy: 74.2%\n",
      "Validation accuracy: 77.7%\n",
      "Test accuracy: 85.5%\n"
     ]
    }
   ],
   "source": [
    "\n",
    "\n",
    "num_steps = 3001\n",
    "\n",
    "with tf.Session(graph=graph) as session:\n",
    "  tf.initialize_all_variables().run()\n",
    "  print(\"Initialized\")\n",
    "  for step in range(num_steps):\n",
    "    # Pick an offset within the training data, which has been randomized.\n",
    "    # Note: we could use better randomization across epochs.\n",
    "    offset = (step * batch_size) % (train_labels.shape[0] - batch_size)\n",
    "    # Generate a minibatch.\n",
    "    batch_data = train_dataset[offset:(offset + batch_size), :]\n",
    "    batch_labels = train_labels[offset:(offset + batch_size), :]\n",
    "    # Prepare a dictionary telling the session where to feed the minibatch.\n",
    "    # The key of the dictionary is the placeholder node of the graph to be fed,\n",
    "    # and the value is the numpy array to feed to it.\n",
    "    feed_dict = {tf_train_dataset : batch_data, tf_train_labels : batch_labels}\n",
    "    _, l, predictions = session.run(\n",
    "      [optimizer, loss, train_prediction], feed_dict=feed_dict)\n",
    "    if (step % 500 == 0):\n",
    "      print(\"Minibatch loss at step %d: %f\" % (step, l))\n",
    "      print(\"Minibatch accuracy: %.1f%%\" % accuracy(predictions, batch_labels))\n",
    "      print(\"Validation accuracy: %.1f%%\" % accuracy(\n",
    "        valid_prediction.eval(), valid_labels))\n",
    "  print(\"Test accuracy: %.1f%%\" % accuracy(test_prediction.eval(), test_labels))\n",
    "\n"
   ]
  },
  {
   "cell_type": "markdown",
   "metadata": {},
   "source": [
    "####  Problem\n",
    "\n",
    "Turn the logistic regression example with SGD into a <span style=\"color:red\">1-hidden layer neural network </span>with rectified linear units <span style=\"color:red\">nn.relu() </span>and 1024 Turn the logistic regression example with SGD into a <span style=\"color:red\">1-hidden layer neural network </span>with rectified linear units <span style=\"color:red\">nn.relu() </span>and 1024 <span style=\"color:red\">hidden nodes</span>. This model should improve your validation / test accuracy.\n",
    "hidden nodes. This model should improve your validation / test accuracy.\n"
   ]
  },
  {
   "cell_type": "code",
   "execution_count": 64,
   "metadata": {
    "collapsed": false
   },
   "outputs": [
    {
     "name": "stdout",
     "output_type": "stream",
     "text": [
      "train_prediction size =  (128, 10)\n",
      "valid_prediction size =  (10000, 10)\n",
      "test_prediction size =  (10000, 10)\n"
     ]
    }
   ],
   "source": [
    "#ver1\n",
    "hidden_nodes = 1024\n",
    "graph = tf.Graph()\n",
    "with graph.as_default():\n",
    "\n",
    "  # Input data. For the training data, we use a placeholder that will be fed\n",
    "  # at run time with a training minibatch.\n",
    "  tf_train_dataset = tf.placeholder(tf.float32,\n",
    "                                    shape=(batch_size, image_size * image_size))\n",
    "  tf_train_labels = tf.placeholder(tf.float32, shape=(batch_size, num_labels))\n",
    "  tf_valid_dataset = tf.constant(valid_dataset)\n",
    "  tf_test_dataset = tf.constant(test_dataset)\n",
    "\n",
    "  # Hidden Layer\n",
    "  weights_hidden = tf.Variable(tf.truncated_normal([image_size * image_size, hidden_nodes]))\n",
    "  biases_hidden = tf.Variable(tf.zeros([hidden_nodes]))\n",
    "\n",
    "  # RELU\n",
    "  relu = tf.nn.relu(tf.matmul(tf_train_dataset, weights_hidden) + biases_hidden)\n",
    "\n",
    "  # Output layer\n",
    "  weights_output = tf.Variable(tf.truncated_normal([hidden_nodes, num_labels]))\n",
    "  biases_output = tf.Variable(tf.zeros([num_labels]))\n",
    "\n",
    "  # Training computation.\n",
    "  logits = tf.matmul(relu, weights_output) + biases_output\n",
    "  loss = tf.reduce_mean(tf.nn.softmax_cross_entropy_with_logits(logits, tf_train_labels))\n",
    "\n",
    "  # Optimizer.\n",
    "  optimizer = tf.train.GradientDescentOptimizer(0.5).minimize(loss)\n",
    "\n",
    "  # Predictions for the training, validation, and test data.\n",
    "  train_prediction = tf.nn.softmax(logits)\n",
    "  print (\"train_prediction size = \", train_prediction.get_shape())\n",
    "\n",
    "  valid_prediction = tf.nn.softmax(tf.matmul(\n",
    "                                    tf.nn.relu(\n",
    "                                      tf.matmul(tf_valid_dataset, weights_hidden) + biases_hidden), \n",
    "                                    weights_output) + biases_output)\n",
    "  print (\"valid_prediction size = \", valid_prediction.get_shape())\n",
    "  test_prediction = tf.nn.softmax(tf.matmul(\n",
    "                                    tf.nn.relu(\n",
    "                                      tf.matmul(tf_test_dataset, weights_hidden) + biases_hidden),\n",
    "                                    weights_output) + biases_output)\n",
    "  print (\"test_prediction size = \", test_prediction.get_shape())"
   ]
  },
  {
   "cell_type": "code",
   "execution_count": 66,
   "metadata": {
    "collapsed": false
   },
   "outputs": [
    {
     "name": "stdout",
     "output_type": "stream",
     "text": [
      "Initialized\n",
      "Minibatch loss at step 0 : 297.042\n",
      "Minibatch accuracy: 18.0%\n",
      "Validation accuracy: 34.1%\n",
      "Minibatch loss at step 500 : 13.8108\n",
      "Minibatch accuracy: 78.1%\n",
      "Validation accuracy: 77.8%\n",
      "Minibatch loss at step 1000 : 20.8685\n",
      "Minibatch accuracy: 76.6%\n",
      "Validation accuracy: 77.2%\n",
      "Minibatch loss at step 1500 : 2.30572\n",
      "Minibatch accuracy: 90.6%\n",
      "Validation accuracy: 81.7%\n",
      "Minibatch loss at step 2000 : 3.76205\n",
      "Minibatch accuracy: 82.0%\n",
      "Validation accuracy: 82.2%\n",
      "Minibatch loss at step 2500 : 5.25211\n",
      "Minibatch accuracy: 84.4%\n",
      "Validation accuracy: 80.8%\n",
      "Minibatch loss at step 3000 : 3.04822\n",
      "Minibatch accuracy: 75.0%\n",
      "Validation accuracy: 82.5%\n",
      "Test accuracy: 90.0%\n"
     ]
    }
   ],
   "source": [
    "num_steps = 3001\n",
    "\n",
    "with tf.Session(graph=graph) as session:\n",
    "  tf.initialize_all_variables().run()\n",
    "  print (\"Initialized\")\n",
    "  for step in xrange(num_steps):\n",
    "    # Pick an offset within the training data, which has been randomized.\n",
    "    # Note: we could use better randomization across epochs.\n",
    "    offset = (step * batch_size) % (train_labels.shape[0] - batch_size)\n",
    "    # Generate a minibatch.\n",
    "    batch_data = train_dataset[offset:(offset + batch_size), :]\n",
    "    batch_labels = train_labels[offset:(offset + batch_size), :]\n",
    "    # Prepare a dictionary telling the session where to feed the minibatch.\n",
    "    # The key of the dictionary is the placeholder node of the graph to be fed,\n",
    "    # and the value is the numpy array to feed to it.\n",
    "    feed_dict = {tf_train_dataset : batch_data, tf_train_labels : batch_labels}\n",
    "    _, l, predictions = session.run(\n",
    "      [optimizer, loss, train_prediction], feed_dict=feed_dict)\n",
    "    if (step % 500 == 0):\n",
    "      print (\"Minibatch loss at step\", step, \":\", l)\n",
    "      print (\"Minibatch accuracy: %.1f%%\" % accuracy(predictions, batch_labels))\n",
    "      print (\"Validation accuracy: %.1f%%\" % accuracy(\n",
    "        valid_prediction.eval(), valid_labels))\n",
    "  print (\"Test accuracy: %.1f%%\" % accuracy(test_prediction.eval(), test_labels))\n"
   ]
  },
  {
   "cell_type": "code",
   "execution_count": null,
   "metadata": {
    "collapsed": true
   },
   "outputs": [],
   "source": []
  }
 ],
 "metadata": {
  "anaconda-cloud": {},
  "kernelspec": {
   "display_name": "Python [conda env:tensorflow]",
   "language": "python",
   "name": "conda-env-tensorflow-py"
  },
  "language_info": {
   "codemirror_mode": {
    "name": "ipython",
    "version": 2
   },
   "file_extension": ".py",
   "mimetype": "text/x-python",
   "name": "python",
   "nbconvert_exporter": "python",
   "pygments_lexer": "ipython2",
   "version": "2.7.12"
  }
 },
 "nbformat": 4,
 "nbformat_minor": 1
}
