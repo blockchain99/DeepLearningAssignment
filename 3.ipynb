{
 "cells": [
  {
   "cell_type": "markdown",
   "metadata": {},
   "source": [
    "### Deep Learning Assignment 3(regularization)\n",
    "\n",
    "Previously in 2_fullyconnected.ipynb, you trained a logistic regression and a neural network model.\n",
    "\n",
    "The goal of this assignment is to explore regularization techniques.\n"
   ]
  },
  {
   "cell_type": "code",
   "execution_count": 1,
   "metadata": {
    "collapsed": true
   },
   "outputs": [],
   "source": [
    "# These are all the modules we'll be using later. Make sure you can import them\n",
    "# before proceeding further.\n",
    "import cPickle as pickle\n",
    "import numpy as np\n",
    "import tensorflow as tf"
   ]
  },
  {
   "cell_type": "markdown",
   "metadata": {},
   "source": [
    "##### First reload the data we generated in notmist.ipynb."
   ]
  },
  {
   "cell_type": "code",
   "execution_count": 7,
   "metadata": {
    "collapsed": false
   },
   "outputs": [
    {
     "name": "stdout",
     "output_type": "stream",
     "text": [
      "Training set: train_dataset.shape (200000, 28, 28) , train_labels.shape (200000,)\n",
      "Validation set: valid_dataset.shape (10000, 28, 28) , valid_labels.shape (10000,)\n",
      "Test set (10000, 28, 28) (10000,)\n"
     ]
    }
   ],
   "source": [
    "pickle_file = 'notMNIST.pickle'\n",
    "\n",
    "with open(pickle_file, 'rb') as f:\n",
    "  save = pickle.load(f)\n",
    "  train_dataset = save['train_dataset']\n",
    "  train_labels = save['train_labels']\n",
    "  valid_dataset = save['valid_dataset']\n",
    "  valid_labels = save['valid_labels']\n",
    "  test_dataset = save['test_dataset']\n",
    "  test_labels = save['test_labels']\n",
    "  del save  # hint to help gc free up memory\n",
    "  print 'Training set:','train_dataset.shape', train_dataset.shape, ', train_labels.shape',train_labels.shape\n",
    "  print 'Validation set:','valid_dataset.shape', valid_dataset.shape,', valid_labels.shape', valid_labels.shape\n",
    "  print 'Test set', test_dataset.shape, test_labels.shape  # original : 18724\n"
   ]
  },
  {
   "cell_type": "markdown",
   "metadata": {},
   "source": [
    "####  Reformat into a shape that's more adapted to the models we're going to train:\n",
    "\n",
    "    data as a flat matrix(2d array) by  dataset.reshape((-1, image_size*image_size)).astype(np.float32),\n",
    "    labels as float 1-hot encodings.\n",
    "\n"
   ]
  },
  {
   "cell_type": "code",
   "execution_count": 8,
   "metadata": {
    "collapsed": false
   },
   "outputs": [
    {
     "name": "stdout",
     "output_type": "stream",
     "text": [
      "Training set (200000, 784) (200000, 10)\n",
      "Validation set (10000, 784) (10000, 10)\n",
      "Test set (10000, 784) (10000, 10)\n"
     ]
    }
   ],
   "source": [
    "## different udacity version which test_dataset.shape(18724, 28, 28) test_labels.shape(18724,)\n",
    "image_size = 28\n",
    "num_labels = 10\n",
    "\n",
    "def reformat(dataset, labels):\n",
    "  dataset = dataset.reshape((-1, image_size * image_size)).astype(np.float32) #convert 2d array from 3d\n",
    "  # Map 2 to [0.0, 1.0, 0.0 ...], 3 to [0.0, 0.0, 1.0 ...]\n",
    "  labels = (np.arange(num_labels) == labels[:,None]).astype(np.float32)  #1-hot encoding\n",
    "  return dataset, labels\n",
    "train_dataset, train_labels = reformat(train_dataset, train_labels)\n",
    "valid_dataset, valid_labels = reformat(valid_dataset, valid_labels)\n",
    "test_dataset, test_labels = reformat(test_dataset, test_labels)\n",
    "print 'Training set', train_dataset.shape, train_labels.shape\n",
    "print 'Validation set', valid_dataset.shape, valid_labels.shape\n",
    "print 'Test set', test_dataset.shape, test_labels.shape  #original 18724"
   ]
  },
  {
   "cell_type": "code",
   "execution_count": 9,
   "metadata": {
    "collapsed": true
   },
   "outputs": [],
   "source": [
    "def accuracy(predictions, labels):\n",
    "  return (100.0 * np.sum(np.argmax(predictions, 1) == np.argmax(labels, 1))\n",
    "          / predictions.shape[0])"
   ]
  },
  {
   "cell_type": "markdown",
   "metadata": {},
   "source": [
    "### Problem 1\n",
    "\n",
    "Introduce and tune <span style=\"color:red\">L2 regularization </span>for both logistic and neural network models. Remember that L2 amounts to adding a penalty on the norm of the weights to the loss. In TensorFlow, you can compue the L2 loss for a tensor t using<span style=\"color:red\"> nn.l2_loss(t)</span>. The right amount of regularization should improve your validation / test accuracy.\n"
   ]
  },
  {
   "cell_type": "code",
   "execution_count": 17,
   "metadata": {
    "collapsed": false
   },
   "outputs": [
    {
     "name": "stdout",
     "output_type": "stream",
     "text": [
      "train_labels.shape[0]: 200000\n",
      "[0, 128, 256, 384, 512, 640, 768, 896, 1024, 1152]\n",
      "[182976, 183104, 183232, 183360, 183488, 183616, 183744, 183872, 184000]\n"
     ]
    }
   ],
   "source": [
    "#test\n",
    "batch_size = 128\n",
    "num_steps = 3001\n",
    "offset_list=[]\n",
    "print \"train_labels.shape[0]:\",train_labels.shape[0]\n",
    "for step in xrange(num_steps):\n",
    "   offset = (step * batch_size) % (train_labels.shape[0] - batch_size)\n",
    "   offset_list.append(offset)\n",
    "print offset_list[0:10]\n",
    "print offset_list[-10:-1]"
   ]
  },
  {
   "cell_type": "code",
   "execution_count": 11,
   "metadata": {
    "collapsed": false
   },
   "outputs": [
    {
     "name": "stdout",
     "output_type": "stream",
     "text": [
      "Initialized\n",
      "Minibatch loss at step 0 : 20.8532\n",
      "Minibatch accuracy: 7.8%\n",
      "Validation accuracy: 11.1%\n",
      "Minibatch loss at step 500 : 2.953\n",
      "Minibatch accuracy: 75.8%\n",
      "Validation accuracy: 76.5%\n",
      "Minibatch loss at step 1000 : 2.05176\n",
      "Minibatch accuracy: 73.4%\n",
      "Validation accuracy: 77.9%\n",
      "Minibatch loss at step 1500 : 0.953579\n",
      "Minibatch accuracy: 84.4%\n",
      "Validation accuracy: 79.4%\n",
      "Minibatch loss at step 2000 : 0.750201\n",
      "Minibatch accuracy: 85.2%\n",
      "Validation accuracy: 80.7%\n",
      "Minibatch loss at step 2500 : 0.732185\n",
      "Minibatch accuracy: 88.3%\n",
      "Validation accuracy: 81.4%\n",
      "Minibatch loss at step 3000 : 0.918553\n",
      "Minibatch accuracy: 75.8%\n",
      "Validation accuracy: 81.2%\n",
      "Test accuracy: 88.4%\n"
     ]
    }
   ],
   "source": [
    "batch_size = 128\n",
    "\n",
    "graph = tf.Graph()\n",
    "with graph.as_default():\n",
    "\n",
    "  # Input data. For the training data, we use a placeholder that will be fed\n",
    "  # at run time with a training minibatch.\n",
    "  tf_train_dataset = tf.placeholder(tf.float32, shape=(batch_size, image_size * image_size))\n",
    "  tf_train_labels = tf.placeholder(tf.float32, shape=(batch_size, num_labels))\n",
    "  tf_valid_dataset = tf.constant(valid_dataset)\n",
    "  tf_test_dataset = tf.constant(test_dataset)\n",
    "  \n",
    "  # Variables.\n",
    "  weights = tf.Variable(tf.truncated_normal([image_size * image_size, num_labels]))\n",
    "  biases = tf.Variable(tf.zeros([num_labels]))\n",
    "  \n",
    "  # Training computation.\n",
    "  logits = tf.matmul(tf_train_dataset, weights) + biases\n",
    "\n",
    "  # Define regularization\n",
    "    # L2 amounts to adding a penalty on the norm of the weights to the loss\n",
    "  regularization = tf.nn.l2_loss(weights) + tf.nn.l2_loss(biases)\n",
    "  loss = tf.reduce_mean(tf.nn.softmax_cross_entropy_with_logits(logits, tf_train_labels)) + 0.001 * regularization\n",
    "  \n",
    "  # Optimizer.\n",
    "  optimizer = tf.train.GradientDescentOptimizer(0.5).minimize(loss)\n",
    "  \n",
    "  # Predictions for the training, validation, and test data.\n",
    "  train_prediction = tf.nn.softmax(logits)\n",
    "  valid_prediction = tf.nn.softmax(tf.matmul(tf_valid_dataset, weights) + biases)\n",
    "  test_prediction = tf.nn.softmax(tf.matmul(tf_test_dataset, weights) + biases)\n",
    "    \n",
    "#train\n",
    "def train(num_steps):\n",
    "  with tf.Session(graph=graph) as session:\n",
    "    tf.initialize_all_variables().run()\n",
    "    print \"Initialized\"\n",
    "    for step in xrange(num_steps):\n",
    "      # Pick an offset within the training data, which has been randomized.\n",
    "      # Note: we could use better randomization across epochs.\n",
    "      offset = (step * batch_size) % (train_labels.shape[0] - batch_size)\n",
    "      # Generate a minibatch.\n",
    "    #1st [0:128],2nd offset:((1,2,3..3001)*128) % (200000-128),...   \n",
    "      batch_data = train_dataset[offset:(offset + batch_size), :]\n",
    "      batch_labels = train_labels[offset:(offset + batch_size), :]\n",
    "      # Prepare a dictionary telling the session where to feed the minibatch.\n",
    "      # The key of the dictionary is the placeholder node of the graph to be fed,\n",
    "      # and the value is the numpy array to feed to it.\n",
    "      feed_dict = {tf_train_dataset : batch_data, tf_train_labels : batch_labels}\n",
    "      _, l, predictions = session.run(\n",
    "        [optimizer, loss, train_prediction], feed_dict=feed_dict)\n",
    "      if (step % 500 == 0):\n",
    "        print \"Minibatch loss at step\", step, \":\", l\n",
    "        print \"Minibatch accuracy: %.1f%%\" % accuracy(predictions, batch_labels)\n",
    "        print \"Validation accuracy: %.1f%%\" % accuracy(\n",
    "          valid_prediction.eval(), valid_labels)\n",
    "    print \"Test accuracy: %.1f%%\" % accuracy(test_prediction.eval(), test_labels)\n",
    "\n",
    "train(3001)"
   ]
  },
  {
   "cell_type": "markdown",
   "metadata": {},
   "source": [
    "#### Problem 2\n",
    "\n",
    "Let's demonstrate an extreme case of <span style=\"color:red\">overfitting</span>. Restrict your training data to just a few batches. What happens?\n",
    "In [7]:\n",
    "\n"
   ]
  },
  {
   "cell_type": "code",
   "execution_count": 18,
   "metadata": {
    "collapsed": false
   },
   "outputs": [
    {
     "name": "stdout",
     "output_type": "stream",
     "text": [
      "Initialized\n",
      "Minibatch loss at step 0 : 17.9859\n",
      "Minibatch accuracy: 13.3%\n",
      "Validation accuracy: 19.4%\n",
      "Test accuracy: 77.8%\n"
     ]
    }
   ],
   "source": [
    "train(100)"
   ]
  },
  {
   "cell_type": "markdown",
   "metadata": {},
   "source": [
    "#### Problem 3\n",
    "\n",
    "Introduce <span style=\"color:red\">Dropout on the hidden layer</span> of the neural network. Remember: Dropout should only be introduced during training, not evaluation, otherwise your evaluation results would be stochastic as well. TensorFlow provides<span style=\"color:red\"> nn.dropout()</span> for that, but you have to make sure it's only inserted during training.\n",
    "\n",
    "What happens to our extreme overfitting case?"
   ]
  },
  {
   "cell_type": "code",
   "execution_count": 19,
   "metadata": {
    "collapsed": false
   },
   "outputs": [
    {
     "name": "stdout",
     "output_type": "stream",
     "text": [
      "Initialized\n",
      "Minibatch loss at step 0 : 590.241\n",
      "Minibatch accuracy: 13.3%\n",
      "Validation accuracy: 11.3%\n",
      "Minibatch loss at step 500 : 78.2559\n",
      "Minibatch accuracy: 78.9%\n",
      "Validation accuracy: 80.3%\n",
      "Minibatch loss at step 1000 : 115.588\n",
      "Minibatch accuracy: 68.0%\n",
      "Validation accuracy: 81.9%\n",
      "Minibatch loss at step 1500 : 45.2509\n",
      "Minibatch accuracy: 80.5%\n",
      "Validation accuracy: 82.6%\n",
      "Minibatch loss at step 2000 : 36.1798\n",
      "Minibatch accuracy: 77.3%\n",
      "Validation accuracy: 83.1%\n",
      "Minibatch loss at step 2500 : 43.5344\n",
      "Minibatch accuracy: 77.3%\n",
      "Validation accuracy: 83.2%\n",
      "Minibatch loss at step 3000 : 50.0074\n",
      "Minibatch accuracy: 71.1%\n",
      "Validation accuracy: 83.4%\n",
      "Test accuracy: 90.2%\n"
     ]
    }
   ],
   "source": [
    "num_hidden = 1024\n",
    "# Create a one-hidden-layer network with dropout\n",
    "def one_layer_dropout():\n",
    "  batch_size = 128\n",
    "  graph = tf.Graph()\n",
    "  with graph.as_default():\n",
    "    # Define placeholders of data and dropout_prob\n",
    "    train_X = tf.placeholder(tf.float32, shape=(batch_size, image_size * image_size))\n",
    "    train_y = tf.placeholder(tf.float32, shape=(batch_size, num_labels))\n",
    "    valid_X = tf.constant(valid_dataset)\n",
    "    test_X = tf.constant(test_dataset)\n",
    "    dropout_p = tf.placeholder(tf.float32)\n",
    "\n",
    "    # Define weight and bias terms\n",
    "    W_in = tf.Variable(tf.truncated_normal([image_size * image_size, num_hidden]))\n",
    "    b_in = tf.Variable(tf.zeros([num_hidden]))\n",
    "\n",
    "    W_hidden = tf.Variable(tf.truncated_normal([num_hidden, num_labels]))\n",
    "    b_hidden = tf.Variable(tf.zeros([num_labels]))\n",
    "\n",
    "    # Define computation and predictions\n",
    "    # Train\n",
    "    first_layer = tf.add(tf.matmul(train_X, W_in), b_in)\n",
    "    relu_layer = tf.nn.relu(first_layer)\n",
    "    dropout_layer = tf.nn.dropout(relu_layer, dropout_p)\n",
    "    second_layer = tf.add(tf.matmul(dropout_layer, W_hidden), b_hidden)\n",
    "    loss = tf.reduce_mean(tf.nn.softmax_cross_entropy_with_logits(second_layer, train_y))\n",
    "    train_prediction = tf.nn.softmax(second_layer)\n",
    "\n",
    "    # Valid\n",
    "    v_first_layer = tf.add(tf.matmul(valid_X, W_in), b_in)\n",
    "    v_relu_layer = tf.nn.relu(v_first_layer)\n",
    "    v_second_layer = tf.add(tf.matmul(v_relu_layer, W_hidden), b_hidden)\n",
    "    valid_prediction = tf.nn.softmax(v_second_layer)\n",
    "\n",
    "    # Test\n",
    "    t_first_layer = tf.add(tf.matmul(test_X, W_in), b_in)\n",
    "    t_relu_layer = tf.nn.relu(t_first_layer)\n",
    "    t_second_layer = tf.add(tf.matmul(t_relu_layer, W_hidden), b_hidden)\n",
    "    test_prediction = tf.nn.softmax(t_second_layer)\n",
    "\n",
    "    # Optimizer.\n",
    "    optimizer = tf.train.GradientDescentOptimizer(0.01).minimize(loss)\n",
    "\n",
    "  # Let's run it:\n",
    "\n",
    "  num_steps = 3001\n",
    "\n",
    "  with tf.Session(graph=graph) as session:\n",
    "    tf.initialize_all_variables().run()\n",
    "    print \"Initialized\"\n",
    "    for step in xrange(num_steps):\n",
    "      # Pick an offset within the training data, which has been randomized.\n",
    "      # Note: we could use better randomization across epochs.\n",
    "      offset = (step * batch_size) % (train_labels.shape[0] - batch_size)\n",
    "      # Generate a minibatch.\n",
    "      batch_data = train_dataset[offset:(offset + batch_size), :]\n",
    "      batch_labels = train_labels[offset:(offset + batch_size), :]\n",
    "      # Prepare a dictionary telling the session where to feed the minibatch.\n",
    "      # The key of the dictionary is the placeholder node of the graph to be fed,\n",
    "      # and the value is the numpy array to feed to it.\n",
    "      feed_dict = {train_X : batch_data, train_y : batch_labels, dropout_p : 0.3}\n",
    "      _, l, predictions = session.run([optimizer, loss, train_prediction], feed_dict=feed_dict)\n",
    "      if (step % 500 == 0):\n",
    "        print \"Minibatch loss at step\", step, \":\", l\n",
    "        print \"Minibatch accuracy: %.1f%%\" % accuracy(predictions, batch_labels)\n",
    "        print \"Validation accuracy: %.1f%%\" % accuracy(valid_prediction.eval(), valid_labels)\n",
    "    print \"Test accuracy: %.1f%%\" % accuracy(test_prediction.eval(), test_labels)\n",
    "\n",
    "one_layer_dropout()"
   ]
  },
  {
   "cell_type": "markdown",
   "metadata": {},
   "source": [
    "#### Problem 4\n",
    "\n",
    "Try to get the best performance you can using a<span style=\"color:red\"> multi-layer model</span>! The best reported test accuracy using a deep network is 97.1%.\n",
    "\n",
    "One avenue you can explore is to add multiple layers.\n",
    "\n",
    "Another one is to use<span style=\"color:red\"> learning rate decay</span>:\n",
    "\n",
    "global_step = tf.Variable(0)  # count the number of steps taken.\n",
    "learning_rate = tf.train.exponential_decay(0.5, step, ...)\n",
    "optimizer = tf.train.GradientDescentOptimizer(learning_rate).minimize(loss, global_step=global_step)\n",
    "\n",
    " "
   ]
  },
  {
   "cell_type": "code",
   "execution_count": 20,
   "metadata": {
    "collapsed": false
   },
   "outputs": [
    {
     "name": "stdout",
     "output_type": "stream",
     "text": [
      "Initialized\n",
      "Minibatch loss at step 0 : 2.37131\n",
      "Minibatch accuracy: 5.5%\n",
      "Validation accuracy: 20.0%\n",
      "Minibatch loss at step 500 : 0.480525\n",
      "Minibatch accuracy: 86.7%\n",
      "Validation accuracy: 85.2%\n",
      "Minibatch loss at step 1000 : 0.579251\n",
      "Minibatch accuracy: 82.8%\n",
      "Validation accuracy: 86.5%\n",
      "Minibatch loss at step 1500 : 0.299408\n",
      "Minibatch accuracy: 95.3%\n",
      "Validation accuracy: 87.5%\n",
      "Minibatch loss at step 2000 : 0.298626\n",
      "Minibatch accuracy: 92.2%\n",
      "Validation accuracy: 88.3%\n",
      "Minibatch loss at step 2500 : 0.235718\n",
      "Minibatch accuracy: 93.0%\n",
      "Validation accuracy: 88.7%\n",
      "Minibatch loss at step 3000 : 0.431049\n",
      "Minibatch accuracy: 85.9%\n",
      "Validation accuracy: 89.0%\n",
      "Minibatch loss at step 3500 : 0.341678\n",
      "Minibatch accuracy: 90.6%\n",
      "Validation accuracy: 89.4%\n",
      "Minibatch loss at step 4000 : 0.287691\n",
      "Minibatch accuracy: 93.0%\n",
      "Validation accuracy: 89.2%\n",
      "Minibatch loss at step 4500 : 0.278906\n",
      "Minibatch accuracy: 92.2%\n",
      "Validation accuracy: 89.6%\n",
      "Minibatch loss at step 5000 : 0.272939\n",
      "Minibatch accuracy: 92.2%\n",
      "Validation accuracy: 89.7%\n",
      "Minibatch loss at step 5500 : 0.234345\n",
      "Minibatch accuracy: 91.4%\n",
      "Validation accuracy: 89.9%\n",
      "Minibatch loss at step 6000 : 0.250326\n",
      "Minibatch accuracy: 93.8%\n",
      "Validation accuracy: 90.2%\n",
      "Minibatch loss at step 6500 : 0.285156\n",
      "Minibatch accuracy: 92.2%\n",
      "Validation accuracy: 90.3%\n",
      "Minibatch loss at step 7000 : 0.261671\n",
      "Minibatch accuracy: 93.8%\n",
      "Validation accuracy: 89.8%\n",
      "Minibatch loss at step 7500 : 0.387381\n",
      "Minibatch accuracy: 89.8%\n",
      "Validation accuracy: 90.3%\n",
      "Minibatch loss at step 8000 : 0.304142\n",
      "Minibatch accuracy: 90.6%\n",
      "Validation accuracy: 90.4%\n",
      "Minibatch loss at step 8500 : 0.283408\n",
      "Minibatch accuracy: 90.6%\n",
      "Validation accuracy: 90.5%\n",
      "Minibatch loss at step 9000 : 0.187951\n",
      "Minibatch accuracy: 93.8%\n",
      "Validation accuracy: 90.4%\n",
      "Minibatch loss at step 9500 : 0.218968\n",
      "Minibatch accuracy: 96.1%\n",
      "Validation accuracy: 90.8%\n",
      "Minibatch loss at step 10000 : 0.335017\n",
      "Minibatch accuracy: 89.1%\n",
      "Validation accuracy: 90.5%\n",
      "Minibatch loss at step 10500 : 0.330742\n",
      "Minibatch accuracy: 89.8%\n",
      "Validation accuracy: 90.6%\n",
      "Minibatch loss at step 11000 : 0.316998\n",
      "Minibatch accuracy: 89.8%\n",
      "Validation accuracy: 90.9%\n",
      "Minibatch loss at step 11500 : 0.165655\n",
      "Minibatch accuracy: 95.3%\n",
      "Validation accuracy: 90.9%\n",
      "Minibatch loss at step 12000 : 0.245616\n",
      "Minibatch accuracy: 94.5%\n",
      "Validation accuracy: 90.5%\n",
      "Test accuracy: 95.8%\n"
     ]
    }
   ],
   "source": [
    "# Create a deep network with dropout\n",
    "def deep_dropout():\n",
    "  batch_size = 128\n",
    "  n_hidden_1 = 2048\n",
    "  n_hidden_2 = 2048\n",
    "\n",
    "  graph = tf.Graph()\n",
    "  with graph.as_default():\n",
    "    # Define placeholders of data and dropout_prob\n",
    "    train_X = tf.placeholder(tf.float32, shape=(batch_size, image_size * image_size))\n",
    "    train_y = tf.placeholder(tf.float32, shape=(batch_size, num_labels))\n",
    "    valid_X = tf.constant(valid_dataset)\n",
    "    test_X = tf.constant(test_dataset)\n",
    "    dropout_p1 = tf.placeholder(tf.float32)\n",
    "    dropout_p2 = tf.placeholder(tf.float32)\n",
    "\n",
    "    # Define weight and bias terms\n",
    "    W_in = tf.Variable(tf.truncated_normal([image_size * image_size, n_hidden_1], stddev=0.03))\n",
    "    b_in = tf.Variable(tf.zeros([n_hidden_1]))\n",
    "\n",
    "    W_hidden_1 = tf.Variable(tf.truncated_normal([n_hidden_1, n_hidden_2], stddev=0.03))\n",
    "    b_hidden_1 = tf.Variable(tf.zeros([n_hidden_2]))\n",
    "\n",
    "    W_out = tf.Variable(tf.truncated_normal([n_hidden_2, num_labels], stddev=0.03))\n",
    "    b_out = tf.Variable(tf.zeros([num_labels]))\n",
    "\n",
    "    # Define computation and predictions\n",
    "    # Train\n",
    "    layer1 = tf.add(tf.matmul(train_X, W_in), b_in)\n",
    "    relu1 = tf.nn.relu(layer1)\n",
    "    dropout1 = tf.nn.dropout(relu1, dropout_p1)\n",
    "    l2_loss_1 = tf.nn.l2_loss(W_in) + tf.nn.l2_loss(b_in)  #same regularization above 2 cell\n",
    "\n",
    "    layer2 = tf.add(tf.matmul(dropout1, W_hidden_1), b_hidden_1)\n",
    "    relu2 = tf.nn.relu(layer2)\n",
    "    dropout2 = tf.nn.dropout(relu2, dropout_p2)\n",
    "    l2_loss_2 = tf.nn.l2_loss(W_hidden_1) + tf.nn.l2_loss(b_hidden_1)\n",
    "\n",
    "    out = tf.add(tf.matmul(dropout2, W_out), b_out)\n",
    "    l2_loss_3 = tf.nn.l2_loss(W_out) + tf.nn.l2_loss(b_out)\n",
    "    \n",
    "    # Regularization\n",
    "    regularization = l2_loss_1 + l2_loss_2 + l2_loss_3\n",
    "    \n",
    "    # Not adding regularization for now, but you can add it to loss as\n",
    "    # loss = loss + 0.0001 * regularization\n",
    "    loss = tf.reduce_mean(tf.nn.softmax_cross_entropy_with_logits(out, train_y))\n",
    "    train_prediction = tf.nn.softmax(out)\n",
    "\n",
    "    # Valid\n",
    "    v_layer1 = tf.add(tf.matmul(valid_X, W_in), b_in)\n",
    "    v_relu1 = tf.nn.relu(v_layer1)\n",
    "\n",
    "    v_layer2 = tf.add(tf.matmul(v_relu1, W_hidden_1), b_hidden_1)\n",
    "    v_relu2 = tf.nn.relu(v_layer2)\n",
    "\n",
    "    v_out = tf.add(tf.matmul(v_relu2, W_out), b_out)\n",
    "    valid_prediction = tf.nn.softmax(v_out)\n",
    "\n",
    "    # Test\n",
    "    t_layer1 = tf.add(tf.matmul(test_X, W_in), b_in)\n",
    "    t_relu1 = tf.nn.relu(t_layer1)\n",
    "\n",
    "    t_layer2 = tf.add(tf.matmul(t_relu1, W_hidden_1), b_hidden_1)\n",
    "    t_relu2 = tf.nn.relu(t_layer2)\n",
    "\n",
    "    t_out = tf.add(tf.matmul(t_relu2, W_out), b_out)\n",
    "    test_prediction = tf.nn.softmax(t_out)\n",
    "\n",
    "    # Optimizer.\n",
    "    optimizer = tf.train.AdamOptimizer(0.0001).minimize(loss)\n",
    "\n",
    "  # Let's run it:\n",
    "\n",
    "  num_steps = 12001\n",
    "\n",
    "  with tf.Session(graph=graph) as session:\n",
    "    tf.initialize_all_variables().run()\n",
    "    print \"Initialized\"\n",
    "    for step in xrange(num_steps):\n",
    "      # Pick an offset within the training data, which has been randomized.\n",
    "      # Note: we could use better randomization across epochs.\n",
    "      offset = (step * batch_size) % (train_labels.shape[0] - batch_size)\n",
    "      # Generate a minibatch.\n",
    "      batch_data = train_dataset[offset:(offset + batch_size), :]\n",
    "      batch_labels = train_labels[offset:(offset + batch_size), :]\n",
    "      # Prepare a dictionary telling the session where to feed the minibatch.\n",
    "      # The key of the dictionary is the placeholder node of the graph to be fed,\n",
    "      # and the value is the numpy array to feed to it.\n",
    "      feed_dict = {train_X : batch_data, train_y : batch_labels,\n",
    "                   dropout_p1 : 0.75, dropout_p2: 0.9}\n",
    "      _, l, predictions = session.run([optimizer, loss, train_prediction], feed_dict=feed_dict)\n",
    "      if (step % 500 == 0):\n",
    "        print \"Minibatch loss at step\", step, \":\", l\n",
    "        print \"Minibatch accuracy: %.1f%%\" % accuracy(predictions, batch_labels)\n",
    "        print \"Validation accuracy: %.1f%%\" % accuracy(valid_prediction.eval(), valid_labels)\n",
    "    print \"Test accuracy: %.1f%%\" % accuracy(test_prediction.eval(), test_labels)\n",
    "\n",
    "deep_dropout()"
   ]
  },
  {
   "cell_type": "code",
   "execution_count": null,
   "metadata": {
    "collapsed": true
   },
   "outputs": [],
   "source": []
  }
 ],
 "metadata": {
  "anaconda-cloud": {},
  "kernelspec": {
   "display_name": "Python [conda env:tensorflow]",
   "language": "python",
   "name": "conda-env-tensorflow-py"
  },
  "language_info": {
   "codemirror_mode": {
    "name": "ipython",
    "version": 2
   },
   "file_extension": ".py",
   "mimetype": "text/x-python",
   "name": "python",
   "nbconvert_exporter": "python",
   "pygments_lexer": "ipython2",
   "version": "2.7.12"
  }
 },
 "nbformat": 4,
 "nbformat_minor": 1
}
